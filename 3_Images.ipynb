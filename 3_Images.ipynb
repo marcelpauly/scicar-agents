{
 "cells": [
  {
   "cell_type": "markdown",
   "id": "47f920ce",
   "metadata": {},
   "source": [
    "# Extract data from images\n",
    "\n",
    "We want to extract data from some [voter flow charts](https://www.tagesschau.de/wahl/archiv/2025-02-23-BT-DE/analyse-wanderung.shtml). Each chart shows, for one party at the center, how many voters it gained from or lost to other parties compared to the previous election. Traditional OCR won’t get us very far (or would require a great deal of effort). LLMs, however, can recognize elements such as parties, arrows, directions, and labeled numbers as parts of a coherent diagram, especially if we describe how the chart is structured. This allows the LLM to translate the graphic into structured data."
   ]
  },
  {
   "cell_type": "code",
   "execution_count": null,
   "id": "46d6f3b4",
   "metadata": {},
   "outputs": [],
   "source": [
    "# Colab stuff\n",
    "\n",
    "import sys, pathlib\n",
    "\n",
    "if ('google.colab' in sys.modules) and (not pathlib.Path('repo').exists()):\n",
    "    !git clone https://github.com/marcelpauly/scicar-agents.git\n",
    "    %cd scicar-agents\n",
    "    %pip install -q -r requirements.txt"
   ]
  },
  {
   "cell_type": "code",
   "execution_count": null,
   "id": "13c820f3",
   "metadata": {},
   "outputs": [],
   "source": [
    "from datetime import datetime\n",
    "import os\n",
    "\n",
    "from pydantic import BaseModel, Field\n",
    "\n",
    "from pydantic_ai import Agent, ImageUrl\n",
    "from pydantic_ai.models.openai import OpenAIResponsesModel\n",
    "from pydantic_ai.models.anthropic import AnthropicModel\n",
    "from pydantic_ai.models.google import GoogleModel\n",
    "\n",
    "# Allow async code to run inside Jupyter Notebook's existing event loop\n",
    "import nest_asyncio\n",
    "nest_asyncio.apply()"
   ]
  },
  {
   "cell_type": "code",
   "execution_count": null,
   "id": "fbf867a4",
   "metadata": {},
   "outputs": [],
   "source": [
    "models = {}\n",
    "\n",
    "# OpenAI\n",
    "os.environ['OPENAI_API_KEY'] = 'YOUR_OPENAI_API_KEY'\n",
    "models['gpt'] = OpenAIResponsesModel('gpt-5-nano-2025-08-07')\n",
    "\n",
    "# Anthropic\n",
    "os.environ['ANTHROPIC_API_KEY'] = 'YOUR_ANTHROPIC_API_KEY'\n",
    "models['claude'] = AnthropicModel('claude-3-5-haiku-20241022')\n",
    "\n",
    "# Google\n",
    "os.environ['GOOGLE_API_KEY'] = 'YOUR_GOOGLE_API_KEY'\n",
    "# We use `gemini-2.5-flash` because `gemini-2.5-flash-mini` couldn't handle plus/minus in our example\n",
    "models['gemini'] = GoogleModel('gemini-2.5-flash')"
   ]
  },
  {
   "cell_type": "code",
   "execution_count": null,
   "id": "24bf1e95",
   "metadata": {},
   "outputs": [],
   "source": [
    "# Choose a model\n",
    "model = models['gpt']"
   ]
  },
  {
   "cell_type": "code",
   "execution_count": null,
   "id": "61f1cc81",
   "metadata": {},
   "outputs": [],
   "source": [
    "# Prompts\n",
    "\n",
    "system_prompt = ('You are a specialist for structured information extraction from German election “voter flow” graphics.')\n",
    "\n",
    "prompt = '''Analyze the provided image and extract data from it as described below. The graphic shows the voter flow between a party that is the focus and other parties.\n",
    "\n",
    "The graphic has different sections. At the top, there is a headline, at the bottom, there are the source and the timestamp of the data. In between is the actual drawing area of the graphic, where the voter flow is depicted. This area is structured as follows:\n",
    "\n",
    "1. Horizontally centered you find the focus party.\n",
    "2. If there are source parties from which voters have moved to the focus party, these source parties are listed on the left side one below the other. To the right of them, slightly offset downward, is the number of voters who have moved from the source party to the focus party. However, it may also be the case that there are no source parties, in which case the left part of the drawing area is empty.\n",
    "3. If there are recipient parties to which voters have moved from the focus party, these recipient parties are listed on the right side one below the other. To the left of them, slightly offset downward and left-aligned with the focus party, is the number of voters who have moved from the focus party to the recipient party. However, it may also be the case that there are no recipient parties, in which case the right part of the drawing area is empty.\n",
    "\n",
    "The number of voters who have moved between two parties is always given as integers. They are displayed as strings in the graphic and use dots as thousands separators.\n",
    "\n",
    "If it is an inflow to the focus party, the numerical value is to be considered positive. If it is an outflow from the focus party, the numerical value is to be considered negative, so you must prepend a minus (`-`) to the numerical value.\n",
    "\n",
    "Convert the information in the graphic into the specified data structure.\n",
    "'''"
   ]
  },
  {
   "cell_type": "code",
   "execution_count": null,
   "id": "fc67b8a2",
   "metadata": {},
   "outputs": [],
   "source": [
    "# Pydantic models to set the data structure\n",
    "# (VoterFlows is going to be our requested output type. Its variable 'relations' is a list of Relation objects described in its own class.)\n",
    "\n",
    "class Relation(BaseModel):\n",
    "    party: str = Field(description = 'The name of the other party whose relationship with the focus party is being described.')\n",
    "    value: int = Field(\n",
    "        description=(\n",
    "            'Number of voters who switched between the focus party and the other party. '\n",
    "            'Inflows (on the left side of the graphic) from the other party to the focus party must be positive. '\n",
    "            'Outflows (on the right side of the graphic) from the focus party to the other party must be negative, so you must prepend a minus (`-`) to the numerical value. '\n",
    "            'In the graphic, dots within numbers are thousands separators. Remove them, since we need integers. There are no decimal separators.'\n",
    "        )\n",
    "    )\n",
    "\n",
    "class VoterFlows(BaseModel):\n",
    "    party: str = Field(description = 'The name of the party that is the focus of the analysis.')\n",
    "    timestamp: datetime = Field(description = 'The timestamp of the data, as indicated at the bottom of the graphic. (In the graphic it has the German date format with day first: `Stand: %d.%m.%Y, %H:%M Uhr`. You convert it into a regular datetime object.)')\n",
    "    relations: list[Relation] = Field(description = 'List of voter flows to and from other parties.')"
   ]
  },
  {
   "cell_type": "code",
   "execution_count": null,
   "id": "af8de6c3",
   "metadata": {},
   "outputs": [],
   "source": [
    "agent = Agent(\n",
    "    model = model,\n",
    "    output_type = VoterFlows,\n",
    "    system_prompt = system_prompt,\n",
    ")\n",
    "\n",
    "def extract_voter_flows_from_image(image_url: str) -> dict:\n",
    "    result = agent.run_sync([prompt, ImageUrl(url=image_url)])\n",
    "    return result.output.model_dump()"
   ]
  },
  {
   "cell_type": "code",
   "execution_count": null,
   "id": "f5faea90",
   "metadata": {},
   "outputs": [],
   "source": [
    "url = 'https://www.tagesschau.de/wahl/archiv/2025-02-23-BT-DE/charts/analyse-wanderung/chart_1873611.jpg'\n",
    "data = extract_voter_flows_from_image(url)\n",
    "data"
   ]
  },
  {
   "cell_type": "markdown",
   "id": "9a5fe877",
   "metadata": {},
   "source": [
    "**Possible next steps:**\n",
    "\n",
    "- Validation\n",
    "- Providing a tool for cleaning numbers (removing thousands seperators, setting sign +/-)\n",
    "- Normalize party names\n",
    "- Loop over all partys\n",
    "- Crosschecks (Do the numbers from several charts match up?)"
   ]
  }
 ],
 "metadata": {
  "kernelspec": {
   "display_name": "3.13.3",
   "language": "python",
   "name": "python3"
  },
  "language_info": {
   "codemirror_mode": {
    "name": "ipython",
    "version": 3
   },
   "file_extension": ".py",
   "mimetype": "text/x-python",
   "name": "python",
   "nbconvert_exporter": "python",
   "pygments_lexer": "ipython3",
   "version": "3.13.3"
  }
 },
 "nbformat": 4,
 "nbformat_minor": 5
}
