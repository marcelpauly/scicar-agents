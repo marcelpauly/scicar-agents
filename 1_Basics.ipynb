{
 "cells": [
  {
   "cell_type": "markdown",
   "id": "3dda592f",
   "metadata": {},
   "source": [
    "# Let's go!\n",
    "\n",
    "Install Pydantic AI:\n",
    "\n",
    "`pip install pydantic-ai`\n",
    "\n",
    "With Pydantic AI we can choose between [multiple LLM providers and models](https://ai.pydantic.dev/models/)."
   ]
  },
  {
   "cell_type": "code",
   "execution_count": null,
   "id": "234bd47a",
   "metadata": {},
   "outputs": [],
   "source": [
    "# Colab stuff\n",
    "\n",
    "import sys, pathlib\n",
    "\n",
    "if ('google.colab' in sys.modules) and (not pathlib.Path('repo').exists()):\n",
    "    !git clone https://github.com/marcelpauly/scicar-agents.git\n",
    "    %cd scicar-agents\n",
    "    %pip install -q -r requirements.txt"
   ]
  },
  {
   "cell_type": "code",
   "execution_count": null,
   "id": "7090278f",
   "metadata": {},
   "outputs": [],
   "source": [
    "import os\n",
    "from typing import Literal\n",
    "\n",
    "import pandas as pd\n",
    "from pydantic import BaseModel, Field, HttpUrl\n",
    "\n",
    "from pydantic_ai import Agent, NativeOutput, PromptedOutput, Tool, WebSearchTool\n",
    "from pydantic_ai.models.openai import OpenAIResponsesModel\n",
    "from pydantic_ai.models.anthropic import AnthropicModel\n",
    "from pydantic_ai.models.google import GoogleModel\n",
    "\n",
    "# Allow async code to run inside Jupyter Notebook's existing event loop\n",
    "import nest_asyncio\n",
    "nest_asyncio.apply()"
   ]
  },
  {
   "cell_type": "code",
   "execution_count": null,
   "id": "d5a7920d",
   "metadata": {},
   "outputs": [],
   "source": [
    "models = {}\n",
    "\n",
    "# OpenAI\n",
    "# Generate API key: https://platform.openai.com/settings/organization/api-keys\n",
    "# Models: https://platform.openai.com/docs/models\n",
    "# Pricing: https://platform.openai.com/docs/pricing\n",
    "os.environ['OPENAI_API_KEY'] = 'YOUR_OPENAI_API_KEY'\n",
    "models['gpt'] = OpenAIResponsesModel('gpt-5-nano-2025-08-07')\n",
    "\n",
    "# Anthropic\n",
    "# Generate API key: https://console.anthropic.com/settings/keys\n",
    "# Models: https://docs.anthropic.com/en/docs/about-claude/models/overview\n",
    "# Pricing: https://docs.anthropic.com/en/docs/about-claude/pricing\n",
    "os.environ['ANTHROPIC_API_KEY'] = 'YOUR_ANTHROPIC_API_KEY'\n",
    "models['claude'] = AnthropicModel('claude-3-5-haiku-20241022')\n",
    "\n",
    "# Google\n",
    "# Generate API key: https://aistudio.google.com/apikey\n",
    "# Models: https://ai.google.dev/gemini-api/docs/models\n",
    "# Pricing: https://ai.google.dev/gemini-api/docs/pricing\n",
    "os.environ['GOOGLE_API_KEY'] = 'YOUR_GOOGLE_API_KEY'\n",
    "models['gemini'] = GoogleModel('gemini-2.5-flash-lite')"
   ]
  },
  {
   "cell_type": "code",
   "execution_count": null,
   "id": "5ad7da51",
   "metadata": {},
   "outputs": [],
   "source": [
    "# Choose a model\n",
    "model = models['gpt']"
   ]
  },
  {
   "cell_type": "markdown",
   "id": "0ca1f15d",
   "metadata": {},
   "source": [
    "## Start with a simple prompt"
   ]
  },
  {
   "cell_type": "code",
   "execution_count": null,
   "id": "edac2a79",
   "metadata": {},
   "outputs": [],
   "source": [
    "prompt = 'List the most important professional conferences in Germany strongly related to data journalism, computer-assisted reporting and AI in journalism.'\n",
    "\n",
    "agent = Agent(model)\n",
    "result = agent.run_sync(prompt)\n",
    "print(result.output)"
   ]
  },
  {
   "cell_type": "markdown",
   "id": "ae091125",
   "metadata": {},
   "source": [
    "## Get structured answers\n",
    "\n",
    "### Let's try it using a system prompt"
   ]
  },
  {
   "cell_type": "code",
   "execution_count": null,
   "id": "24639cc8",
   "metadata": {},
   "outputs": [],
   "source": [
    "system_prompt = 'Respond with a JSON array of objects. Choose concise, relevant fields and no extra prose.'\n",
    "prompt = 'List the most important professional conferences in Germany strongly related to data journalism, computer-assisted reporting and AI in journalism.'\n",
    "\n",
    "agent = Agent(\n",
    "    model = model,\n",
    "    system_prompt = system_prompt,\n",
    "    model_settings = {'temperature': 0}\n",
    ")\n",
    "\n",
    "result = agent.run_sync(prompt)\n",
    "print(result.output)"
   ]
  },
  {
   "cell_type": "markdown",
   "id": "ee51b9a1",
   "metadata": {},
   "source": [
    "### Let's use a Pydantic model"
   ]
  },
  {
   "cell_type": "code",
   "execution_count": null,
   "id": "9219af3e",
   "metadata": {},
   "outputs": [],
   "source": [
    "system_prompt = 'You are an expert on professional conferences. Return only the structured output requested.'\n",
    "prompt = 'List the most important professional conferences in Germany strongly related to data journalism, computer-assisted reporting and AI in journalism.'\n",
    "\n",
    "class Conferences(BaseModel):\n",
    "    # A class in Python defines a 'blueprint' for data.\n",
    "    # In this case we use a Pydantic model to specify\n",
    "    # which fields each conference must have.\n",
    "    name: str\n",
    "    organizer: str\n",
    "    location: str | Literal['online only', 'various']\n",
    "    topics: list[str]\n",
    "    frequency: Literal['monthly', 'semiannual', 'annual', 'biennial', 'one-time', 'irregular', 'other', 'unknown']\n",
    "    website: HttpUrl | None\n",
    "\n",
    "output_schema = list[Conferences]\n",
    "\n",
    "agent = Agent(\n",
    "    model = model,\n",
    "    system_prompt = system_prompt,\n",
    "    output_type = output_schema,\n",
    "    model_settings = {'temperature': 0},\n",
    "    retries = 2,\n",
    "    output_retries = 2\n",
    ")\n",
    "\n",
    "result = agent.run_sync(prompt)\n",
    "result.output"
   ]
  },
  {
   "cell_type": "code",
   "execution_count": null,
   "id": "fca38629",
   "metadata": {},
   "outputs": [],
   "source": [
    "# Convert Pydantic objects to a list of dictionaries\n",
    "def convert_pydantic_objects_to_list_of_dicts(conferences: list[Conferences]) -> list[dict]:\n",
    "    return [conference.model_dump() for conference in conferences]\n",
    "\n",
    "convert_pydantic_objects_to_list_of_dicts(result.output)"
   ]
  },
  {
   "cell_type": "markdown",
   "id": "d8b8141a",
   "metadata": {},
   "source": [
    "## Improving and enriching the output by building an agent\n",
    "\n",
    "### Using the LLM's builtin [web search tool](https://ai.pydantic.dev/builtin-tools/#web-search-tool)\n",
    "\n",
    "(Alternative: [DuckDuckGo Search Tool](https://ai.pydantic.dev/common-tools/#duckduckgo-search-tool) and [Tavily Search Tool](https://ai.pydantic.dev/common-tools/#tavily-search-tool) from Pydantic AI's already integrated \"common tools\")"
   ]
  },
  {
   "cell_type": "code",
   "execution_count": null,
   "id": "0ebb9c27",
   "metadata": {},
   "outputs": [],
   "source": [
    "system_prompt = 'You are an expert on professional conferences. Return only the structured output requested. You use the tools provided to you: Use the web search (`WebSearchTool`) to find conferences on the internet.'\n",
    "prompt = 'List the most important professional conferences in Germany strongly related to data journalism, computer-assisted reporting and AI in journalism.'\n",
    "\n",
    "class Conferences(BaseModel):\n",
    "    name: str\n",
    "    organizer: str\n",
    "    location: str | Literal['online only', 'various']\n",
    "    topics: list[str]\n",
    "    frequency: Literal['monthly', 'semiannual', 'annual', 'biennial', 'one-time', 'irregular', 'other', 'unknown']\n",
    "    website: HttpUrl | None\n",
    "\n",
    "output_schema = list[Conferences]\n",
    "\n",
    "def get_output_type(model, output_schema):\n",
    "    \"\"\"\n",
    "    Use NativeOutput for OpenAI models, PromptedOutput for others, to ensure\n",
    "    each model is able to both use tools and provide structured output.\n",
    "    \"\"\"\n",
    "    if isinstance(model, OpenAIResponsesModel):\n",
    "        return NativeOutput(output_schema)\n",
    "    return PromptedOutput(output_schema)\n",
    "\n",
    "output_type = get_output_type(model, output_schema)\n",
    "\n",
    "agent = Agent(\n",
    "    model = model,\n",
    "    system_prompt = system_prompt,\n",
    "    output_type = output_type,\n",
    "    builtin_tools = [WebSearchTool()],\n",
    "    model_settings = {'temperature': 0},\n",
    "    retries = 3,\n",
    "    output_retries = 3\n",
    ")\n",
    "result = agent.run_sync(prompt)\n",
    "convert_pydantic_objects_to_list_of_dicts(result.output)"
   ]
  },
  {
   "cell_type": "markdown",
   "id": "36d0b883",
   "metadata": {},
   "source": [
    "### Building our own tool\n",
    "\n",
    "**Warning:** Doesn't work with Google Gemeni when you demand structured output at the same time."
   ]
  },
  {
   "cell_type": "code",
   "execution_count": null,
   "id": "8a7868b7",
   "metadata": {},
   "outputs": [],
   "source": [
    "df_pop = pd.read_excel('data/population.xlsx')\n",
    "df_pop['city'] = df_pop['city'].str.strip().str.lower().str.split(',').str[0].str.strip()\n",
    "population_per_city = df_pop.set_index('city')['population'].to_dict()\n",
    "\n",
    "\n",
    "def population_for_cities(city_name: str) -> int | None:\n",
    "    \"\"\"\n",
    "    Looks up the population for a given city name.\n",
    "    \"\"\"\n",
    "    city_name = city_name.strip().lower().split(',')[0].strip()\n",
    "    return population_per_city.get(city_name)"
   ]
  },
  {
   "cell_type": "markdown",
   "id": "de366db0",
   "metadata": {},
   "source": [
    "If **Pandas** or **OpenPyXL** is not installed, use `pip install pandas` or `pip install openpyxl`."
   ]
  },
  {
   "cell_type": "code",
   "execution_count": null,
   "id": "c14c1044",
   "metadata": {},
   "outputs": [],
   "source": [
    "# Quick sanity check\n",
    "\n",
    "population_for_cities('Dortmund, Germany')"
   ]
  },
  {
   "cell_type": "code",
   "execution_count": null,
   "id": "9959f883",
   "metadata": {},
   "outputs": [],
   "source": [
    "system_prompt = 'You are an expert on professional conferences. Return only the structured output requested. You use the tools provided to you: Use the web search (`WebSearchTool`) to find conferences on the internet, and `population_for_cities` to look up the population of each event\\'s location.'\n",
    "prompt = 'List the most important professional conferences in Germany strongly related to data journalism, computer-assisted reporting and AI in journalism.'\n",
    "\n",
    "class Conferences(BaseModel):\n",
    "    name: str\n",
    "    organizer: str\n",
    "    location: str | Literal['online only', 'various']\n",
    "    population: int | None = Field(description = 'Population of the location (city) the conference is held in.')\n",
    "    topics: list[str]\n",
    "    frequency: Literal['monthly', 'semiannual', 'annual', 'biennial', 'one-time', 'irregular', 'other', 'unknown']\n",
    "    website: HttpUrl | None\n",
    "\n",
    "def get_output_type(model, output_schema):\n",
    "    \"\"\"\n",
    "    Use NativeOutput for OpenAI models, PromptedOutput for others, to ensure\n",
    "    each model is able to both use tools and provide structured output.\n",
    "    \"\"\"\n",
    "    if isinstance(model, OpenAIResponsesModel):\n",
    "        return NativeOutput(output_schema)\n",
    "    return PromptedOutput(output_schema)\n",
    "\n",
    "output_schema = list[Conferences]\n",
    "output_type = get_output_type(model, output_schema)\n",
    "\n",
    "agent = Agent(\n",
    "    model = model,\n",
    "    system_prompt = system_prompt,\n",
    "    output_type = output_type,\n",
    "    builtin_tools = [WebSearchTool()],\n",
    "    tools = [Tool(population_for_cities, description='Return the city’s population as an integer for a given city name (string). If the input isn’t a city (e.g., \\'online only\\' or \\'various\\'), return `None`.')],\n",
    "    model_settings = {'temperature': 0},\n",
    "    retries = 3,\n",
    "    output_retries = 3\n",
    ")\n",
    "result = agent.run_sync(prompt)\n",
    "convert_pydantic_objects_to_list_of_dicts(result.output)"
   ]
  },
  {
   "cell_type": "markdown",
   "id": "b38156e1",
   "metadata": {},
   "source": [
    "**Let’s inspect what happened under the hood**\n",
    "\n",
    "(internal tools like web search may not be visible here)"
   ]
  },
  {
   "cell_type": "code",
   "execution_count": null,
   "id": "b590016b",
   "metadata": {},
   "outputs": [],
   "source": [
    "for msg in result.all_messages():\n",
    "    for part in msg.parts:\n",
    "        print(part)\n",
    "        print()"
   ]
  }
 ],
 "metadata": {
  "kernelspec": {
   "display_name": "3.13.3",
   "language": "python",
   "name": "python3"
  },
  "language_info": {
   "codemirror_mode": {
    "name": "ipython",
    "version": 3
   },
   "file_extension": ".py",
   "mimetype": "text/x-python",
   "name": "python",
   "nbconvert_exporter": "python",
   "pygments_lexer": "ipython3",
   "version": "3.13.3"
  }
 },
 "nbformat": 4,
 "nbformat_minor": 5
}
